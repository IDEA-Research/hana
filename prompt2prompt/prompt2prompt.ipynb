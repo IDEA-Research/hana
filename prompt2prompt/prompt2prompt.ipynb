{
 "cells": [
  {
   "cell_type": "code",
   "execution_count": 1,
   "metadata": {},
   "outputs": [],
   "source": [
    "import torch\n",
    "torch.cuda.set_device(6)\n",
    "device = torch.device('cuda' if torch.cuda.is_available() else 'cpu')\n",
    "use_fp16 = True\n",
    "\n",
    "# 64*64 config and checkpoint path\n",
    "base_config = '../config/hana_idea64.yaml'\n",
    "base_st_path = '/comp_robot/mm_generative/ckpt/idea_art/t5_v2/model-step=616000.ckpt/checkpoint/mp_rank_00_model_states.pt'\n",
    "\n",
    "# upsample 256*256 config and checkpoint path\n",
    "upsampler_config = '../config/hana_upsample256.yaml'\n",
    "upsampler_st_path = '/comp_robot/mm_generative/ckpt/idea_art/upsample256/dalle/model-step=1000000.ckpt/checkpoint/mp_rank_00_model_states.pt'\n"
   ]
  },
  {
   "cell_type": "code",
   "execution_count": 2,
   "metadata": {},
   "outputs": [],
   "source": [
    "# 1. (SLOW) LOAD T5 Model\n",
    "from transformers import T5Tokenizer, T5EncoderModel\n",
    "import torch\n",
    "from IPython.display import clear_output \n",
    "\n",
    "t5_tokenizer = T5Tokenizer.from_pretrained(\"t5-11b\")\n",
    "t5_model = T5EncoderModel.from_pretrained(\"t5-11b\")\n",
    "\n",
    "t5_model.to(device)\n",
    "t5_model.eval()\n",
    "clear_output()"
   ]
  },
  {
   "cell_type": "code",
   "execution_count": 3,
   "metadata": {},
   "outputs": [],
   "source": [
    "# 2. LOAD Base Model\n",
    "from omegaconf import OmegaConf\n",
    "from torchvision.utils import make_grid\n",
    "from torchvision.transforms.functional import to_pil_image\n",
    "from IPython.display import clear_output \n",
    "import sys, os \n",
    "sys.path.append(os.path.abspath('..'))\n",
    "from model.model_creation import create_gaussian_diffusion\n",
    "from prompt2prompt.text2im_model import create_model \n",
    "\n",
    "# choose model config and checkpoint\n",
    "cfg = OmegaConf.load(base_config)\n",
    "\n",
    "# init model and diffusion\n",
    "model = create_model(**cfg.model)\n",
    "diffusion = create_gaussian_diffusion(\n",
    "    steps=cfg.diffusion.steps,\n",
    "    learn_sigma=cfg.diffusion.learn_sigma,\n",
    "    sigma_small=cfg.diffusion.sigma_small,\n",
    "    noise_schedule=cfg.diffusion.noise_schedule,\n",
    "    use_kl=cfg.diffusion.use_kl,\n",
    "    predict_xstart=cfg.diffusion.predict_xstart,\n",
    "    rescale_timesteps=cfg.diffusion.rescale_timesteps,\n",
    "    rescale_learned_sigmas=cfg.diffusion.rescale_learned_sigmas,\n",
    "    timestep_respacing=cfg.diffusion.eval_timestep_respacing,\n",
    ")\n",
    "\n",
    "# load ckpt\n",
    "def load_ckpt(model, use_fp16=False):\n",
    "    if use_fp16:\n",
    "        model = model.half()\n",
    "    st = torch.load(base_st_path, map_location='cpu')\n",
    "    model_state_dict = model.state_dict()\n",
    "    for name in list(model_state_dict.keys()):\n",
    "        model_state_dict[name] = st['module']['module.model.' + name]\n",
    "    model.load_state_dict(model_state_dict)\n",
    "    return model\n",
    "\n",
    "base_model = load_ckpt(model, use_fp16=use_fp16).to(device).eval()"
   ]
  },
  {
   "cell_type": "code",
   "execution_count": 4,
   "metadata": {},
   "outputs": [],
   "source": [
    "# 3. Utils\n",
    "import copy\n",
    "import random\n",
    "import numpy as np\n",
    "from einops import rearrange\n",
    "\n",
    "def set_random_seed(seed: int):\n",
    "    \"\"\"Set random seed for reproducability.\"\"\"\n",
    "    random.seed(seed)\n",
    "    np.random.seed(seed)\n",
    "    torch.manual_seed(seed)\n",
    "\n",
    "\n",
    "def get_t5_text_encoding(text):\n",
    "    text = [text]\n",
    "    encoding = t5_tokenizer(text,\n",
    "                            padding='max_length',\n",
    "                            max_length=256,\n",
    "                            truncation=True,\n",
    "                            return_tensors=\"pt\")\n",
    "    input_ids, attention_mask = encoding.input_ids, encoding.attention_mask\n",
    "    input_ids = input_ids.cuda()\n",
    "    attention_mask = attention_mask.cuda()\n",
    "    with torch.no_grad():\n",
    "        outputs = t5_model(input_ids=input_ids, attention_mask=attention_mask)\n",
    "        last_hidden_states = outputs.last_hidden_state  # [b, 256, 1024]\n",
    "    attention_mask = attention_mask.bool()\n",
    "    # just force all embeddings that is padding to be equal to 0.\n",
    "    last_hidden_states = last_hidden_states.masked_fill(~rearrange(attention_mask, '... -> ... 1'), 0.)\n",
    "    num_valid_tokens = attention_mask.sum(axis=1).cpu()  # [b]\n",
    "    return last_hidden_states, num_valid_tokens\n",
    "\n",
    "\n",
    "def display_sample(sample):\n",
    "    grid = make_grid(sample, nrow=int(4), padding=0).cpu()\n",
    "    image = to_pil_image(grid.add(1).div(2).clamp(0, 1))\n",
    "    return image"
   ]
  },
  {
   "cell_type": "code",
   "execution_count": 5,
   "metadata": {},
   "outputs": [],
   "source": [
    "# 4.0 Initialize attention controller\n",
    "from prompt2prompt.utils import AttentionControl\n",
    "attn_controller = AttentionControl()"
   ]
  },
  {
   "cell_type": "code",
   "execution_count": 6,
   "metadata": {},
   "outputs": [],
   "source": [
    "# 4.1 Sampling hyperparameters\n",
    "image_size = 64\n",
    "guidance_scale = 12.\n",
    "dynamic_thresholding_percentile = 0.9\n",
    "seed = 0\n",
    "set_random_seed(seed)\n",
    "\n",
    "if cfg.diffusion.eval_timestep_respacing[:4] == 'ddim':\n",
    "    sampler = diffusion.ddim_sample_loop\n",
    "else:\n",
    "    sampler = diffusion.p_sample_loop"
   ]
  },
  {
   "cell_type": "code",
   "execution_count": 25,
   "metadata": {},
   "outputs": [],
   "source": [
    "# 4.2 Base prompt sampling\n",
    "base_prompt = \"A rhino in the field\"\n",
    "attn_controller.switch_to_write()"
   ]
  },
  {
   "cell_type": "code",
   "execution_count": 26,
   "metadata": {},
   "outputs": [
    {
     "data": {
      "application/json": {
       "ascii": false,
       "bar_format": null,
       "colour": null,
       "elapsed": 0.011369943618774414,
       "initial": 0,
       "n": 0,
       "ncols": null,
       "nrows": null,
       "postfix": null,
       "prefix": "",
       "rate": null,
       "total": 250,
       "unit": "it",
       "unit_divisor": 1000,
       "unit_scale": false
      },
      "application/vnd.jupyter.widget-view+json": {
       "model_id": "eab6a2f4f631486d9a407245714e8acc",
       "version_major": 2,
       "version_minor": 0
      },
      "text/plain": [
       "  0%|          | 0/250 [00:00<?, ?it/s]"
      ]
     },
     "metadata": {},
     "output_type": "display_data"
    },
    {
     "data": {
      "image/png": "[encoded data removed]",
      "text/plain": [
       "<PIL.Image.Image image mode=RGB size=64x64 at 0x7F912F842C40>"
      ]
     },
     "execution_count": 26,
     "metadata": {},
     "output_type": "execute_result"
    }
   ],
   "source": [
    "prompt_encoding, _ = get_t5_text_encoding(base_prompt)\n",
    "if use_fp16:\n",
    "    prompt_encoding = prompt_encoding.half()\n",
    "batch_size = prompt_encoding.shape[0]\n",
    "full_batch_size = batch_size * 2\n",
    "\n",
    "# Create for the classifier-free guidance (empty)\n",
    "out_dict = {}\n",
    "out_dict[\"text_encodings\"] = torch.cat([\n",
    "    prompt_encoding, torch.zeros_like(prompt_encoding)], dim=0,\n",
    ")\n",
    "\n",
    "def model_fn(x_t, ts, **kwargs):\n",
    "    global guidance_scale\n",
    "    half = x_t[: len(x_t) // 2]\n",
    "    combined = torch.cat([half, half], dim=0)\n",
    "    model_out = base_model(combined, ts, attn_controller=attn_controller, **kwargs)\n",
    "    eps, rest = model_out[:, :3], model_out[:, 3:]\n",
    "    cond_eps, uncond_eps = torch.split(eps, len(eps) // 2, dim=0)\n",
    "    half_eps = uncond_eps + guidance_scale * (cond_eps - uncond_eps)\n",
    "    eps = torch.cat([half_eps, half_eps], dim=0)\n",
    "    return torch.cat([eps, rest], dim=1)\n",
    "\n",
    "with torch.no_grad():\n",
    "    sample = sampler(\n",
    "        model_fn,\n",
    "        shape=(full_batch_size, 3, image_size, image_size),\n",
    "        clip_denoised=True,\n",
    "        dynamic_threshold=dynamic_thresholding_percentile,\n",
    "        model_kwargs=out_dict,\n",
    "        device=device,\n",
    "        progress=True,\n",
    "    )[:batch_size]\n",
    "\n",
    "display_sample(sample)"
   ]
  },
  {
   "cell_type": "code",
   "execution_count": 32,
   "metadata": {},
   "outputs": [],
   "source": [
    "# 4.3 Edit prompt sampling\n",
    "edit_prompt = \"A zebra in the field\"\n",
    "attn_controller.switch_to_read()"
   ]
  },
  {
   "cell_type": "code",
   "execution_count": 33,
   "metadata": {},
   "outputs": [
    {
     "data": {
      "application/json": {
       "ascii": false,
       "bar_format": null,
       "colour": null,
       "elapsed": 0.01139974594116211,
       "initial": 0,
       "n": 0,
       "ncols": null,
       "nrows": null,
       "postfix": null,
       "prefix": "",
       "rate": null,
       "total": 250,
       "unit": "it",
       "unit_divisor": 1000,
       "unit_scale": false
      },
      "application/vnd.jupyter.widget-view+json": {
       "model_id": "f141945b37674c1ea76a3a19cd18cc7f",
       "version_major": 2,
       "version_minor": 0
      },
      "text/plain": [
       "  0%|          | 0/250 [00:00<?, ?it/s]"
      ]
     },
     "metadata": {},
     "output_type": "display_data"
    },
    {
     "data": {
      "image/png": "[encoded data removed]",
      "text/plain": [
       "<PIL.Image.Image image mode=RGB size=64x64 at 0x7F912F97C850>"
      ]
     },
     "execution_count": 33,
     "metadata": {},
     "output_type": "execute_result"
    }
   ],
   "source": [
    "prompt_encoding, _ = get_t5_text_encoding(edit_prompt)\n",
    "if use_fp16:\n",
    "    prompt_encoding = prompt_encoding.half()\n",
    "batch_size = prompt_encoding.shape[0]\n",
    "full_batch_size = batch_size * 2\n",
    "\n",
    "# Create for the classifier-free guidance (empty)\n",
    "out_dict = {}\n",
    "out_dict[\"text_encodings\"] = torch.cat([prompt_encoding, torch.zeros_like(prompt_encoding)], dim=0)\n",
    "\n",
    "def model_fn(x_t, ts, **kwargs):\n",
    "    global guidance_scale\n",
    "    half = x_t[: len(x_t) // 2]\n",
    "    combined = torch.cat([half, half], dim=0)\n",
    "    model_out = base_model(combined, ts, attn_controller=attn_controller, **kwargs)\n",
    "    eps, rest = model_out[:, :3], model_out[:, 3:]\n",
    "    cond_eps, uncond_eps = torch.split(eps, len(eps) // 2, dim=0)\n",
    "    half_eps = uncond_eps + guidance_scale * (cond_eps - uncond_eps)\n",
    "    eps = torch.cat([half_eps, half_eps], dim=0)\n",
    "    return torch.cat([eps, rest], dim=1)\n",
    "\n",
    "with torch.no_grad():\n",
    "    edit_sample = sampler(\n",
    "        model_fn,\n",
    "        shape=(full_batch_size, 3, image_size, image_size),\n",
    "        clip_denoised=True,\n",
    "        dynamic_threshold=dynamic_thresholding_percentile,\n",
    "        model_kwargs=out_dict,\n",
    "        device=device,\n",
    "        progress=True,\n",
    "    )[:batch_size]\n",
    "\n",
    "display_sample(edit_sample)"
   ]
  }
 ],
 "metadata": {
  "kernelspec": {
   "display_name": "Python 3.8.12 ('mm2')",
   "language": "python",
   "name": "python3"
  },
  "language_info": {
   "codemirror_mode": {
    "name": "ipython",
    "version": 3
   },
   "file_extension": ".py",
   "mimetype": "text/x-python",
   "name": "python",
   "nbconvert_exporter": "python",
   "pygments_lexer": "ipython3",
   "version": "3.8.12"
  },
  "orig_nbformat": 4,
  "vscode": {
   "interpreter": {
    "hash": "a123294185829724a98e21d357cfa9ebc33d19d6bb8e89870b7fbde9a2c4274d"
   }
  }
 },
 "nbformat": 4,
 "nbformat_minor": 2
}
